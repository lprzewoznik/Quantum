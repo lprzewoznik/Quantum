{
 "cells": [
  {
   "cell_type": "code",
   "execution_count": 4,
   "metadata": {},
   "outputs": [],
   "source": [
    "from qiskit import QuantumCircuit, assemble, Aer\n",
    "from qiskit.visualization import plot_histogram"
   ]
  },
  {
   "cell_type": "code",
   "execution_count": 10,
   "metadata": {},
   "outputs": [],
   "source": [
    "n_q = 8\n",
    "n = n_q\n",
    "n_b = n\n",
    "qc_output = QuantumCircuit(n_q,n_b)"
   ]
  },
  {
   "cell_type": "code",
   "execution_count": 11,
   "metadata": {},
   "outputs": [],
   "source": [
    "for j in range(n):\n",
    "    qc_output.measure(j,j)"
   ]
  },
  {
   "cell_type": "code",
   "execution_count": 12,
   "metadata": {},
   "outputs": [
    {
     "data": {
      "text/html": [
       "<pre style=\"word-wrap: normal;white-space: pre;background: #fff0;line-height: 1.1;font-family: &quot;Courier New&quot;,Courier,monospace\">     ┌─┐                     \n",
       "q_0: ┤M├─────────────────────\n",
       "     └╥┘┌─┐                  \n",
       "q_1: ─╫─┤M├──────────────────\n",
       "      ║ └╥┘┌─┐               \n",
       "q_2: ─╫──╫─┤M├───────────────\n",
       "      ║  ║ └╥┘┌─┐            \n",
       "q_3: ─╫──╫──╫─┤M├────────────\n",
       "      ║  ║  ║ └╥┘┌─┐         \n",
       "q_4: ─╫──╫──╫──╫─┤M├─────────\n",
       "      ║  ║  ║  ║ └╥┘┌─┐      \n",
       "q_5: ─╫──╫──╫──╫──╫─┤M├──────\n",
       "      ║  ║  ║  ║  ║ └╥┘┌─┐   \n",
       "q_6: ─╫──╫──╫──╫──╫──╫─┤M├───\n",
       "      ║  ║  ║  ║  ║  ║ └╥┘┌─┐\n",
       "q_7: ─╫──╫──╫──╫──╫──╫──╫─┤M├\n",
       "      ║  ║  ║  ║  ║  ║  ║ └╥┘\n",
       "c: 8/═╩══╩══╩══╩══╩══╩══╩══╩═\n",
       "      0  1  2  3  4  5  6  7 </pre>"
      ],
      "text/plain": [
       "     ┌─┐                     \n",
       "q_0: ┤M├─────────────────────\n",
       "     └╥┘┌─┐                  \n",
       "q_1: ─╫─┤M├──────────────────\n",
       "      ║ └╥┘┌─┐               \n",
       "q_2: ─╫──╫─┤M├───────────────\n",
       "      ║  ║ └╥┘┌─┐            \n",
       "q_3: ─╫──╫──╫─┤M├────────────\n",
       "      ║  ║  ║ └╥┘┌─┐         \n",
       "q_4: ─╫──╫──╫──╫─┤M├─────────\n",
       "      ║  ║  ║  ║ └╥┘┌─┐      \n",
       "q_5: ─╫──╫──╫──╫──╫─┤M├──────\n",
       "      ║  ║  ║  ║  ║ └╥┘┌─┐   \n",
       "q_6: ─╫──╫──╫──╫──╫──╫─┤M├───\n",
       "      ║  ║  ║  ║  ║  ║ └╥┘┌─┐\n",
       "q_7: ─╫──╫──╫──╫──╫──╫──╫─┤M├\n",
       "      ║  ║  ║  ║  ║  ║  ║ └╥┘\n",
       "c: 8/═╩══╩══╩══╩══╩══╩══╩══╩═\n",
       "      0  1  2  3  4  5  6  7 "
      ]
     },
     "execution_count": 12,
     "metadata": {},
     "output_type": "execute_result"
    }
   ],
   "source": [
    "qc_output.draw()"
   ]
  },
  {
   "cell_type": "code",
   "execution_count": 13,
   "metadata": {},
   "outputs": [
    {
     "data": {
      "image/png": "[encoded data removed]",
      "text/plain": [
       "<Figure size 504x360 with 1 Axes>"
      ]
     },
     "execution_count": 13,
     "metadata": {},
     "output_type": "execute_result"
    }
   ],
   "source": [
    "sim = Aer.get_backend('qasm_simulator')  # this is the simulator we'll use\n",
    "qobj = assemble(qc_output)  # this turns the circuit into an object our backend can run\n",
    "result = sim.run(qobj).result()  # we run the experiment and get the result from that experiment\n",
    "# from the results, we get a dictionary containing the number of times (counts)\n",
    "# each result appeared\n",
    "counts = result.get_counts()\n",
    "# and display it on a histogram\n",
    "plot_histogram(counts)"
   ]
  },
  {
   "cell_type": "code",
   "execution_count": 28,
   "metadata": {},
   "outputs": [],
   "source": [
    "m = 6 #liczba qubitów\n",
    "qc_encode6 = QuantumCircuit(m,m)\n",
    "qc_encode6.x(3)\n",
    "qc_encode6.barrier()\n",
    "\n",
    "for j in range(m):\n",
    "    qc_encode6.measure(j,j)"
   ]
  },
  {
   "cell_type": "code",
   "execution_count": 29,
   "metadata": {},
   "outputs": [
    {
     "data": {
      "text/html": [
       "<pre style=\"word-wrap: normal;white-space: pre;background: #fff0;line-height: 1.1;font-family: &quot;Courier New&quot;,Courier,monospace\">           ░ ┌─┐               \n",
       "q_0: ──────░─┤M├───────────────\n",
       "           ░ └╥┘┌─┐            \n",
       "q_1: ──────░──╫─┤M├────────────\n",
       "           ░  ║ └╥┘┌─┐         \n",
       "q_2: ──────░──╫──╫─┤M├─────────\n",
       "     ┌───┐ ░  ║  ║ └╥┘┌─┐      \n",
       "q_3: ┤ X ├─░──╫──╫──╫─┤M├──────\n",
       "     └───┘ ░  ║  ║  ║ └╥┘┌─┐   \n",
       "q_4: ──────░──╫──╫──╫──╫─┤M├───\n",
       "           ░  ║  ║  ║  ║ └╥┘┌─┐\n",
       "q_5: ──────░──╫──╫──╫──╫──╫─┤M├\n",
       "           ░  ║  ║  ║  ║  ║ └╥┘\n",
       "c: 6/═════════╩══╩══╩══╩══╩══╩═\n",
       "              0  1  2  3  4  5 </pre>"
      ],
      "text/plain": [
       "           ░ ┌─┐               \n",
       "q_0: ──────░─┤M├───────────────\n",
       "           ░ └╥┘┌─┐            \n",
       "q_1: ──────░──╫─┤M├────────────\n",
       "           ░  ║ └╥┘┌─┐         \n",
       "q_2: ──────░──╫──╫─┤M├─────────\n",
       "     ┌───┐ ░  ║  ║ └╥┘┌─┐      \n",
       "q_3: ┤ X ├─░──╫──╫──╫─┤M├──────\n",
       "     └───┘ ░  ║  ║  ║ └╥┘┌─┐   \n",
       "q_4: ──────░──╫──╫──╫──╫─┤M├───\n",
       "           ░  ║  ║  ║  ║ └╥┘┌─┐\n",
       "q_5: ──────░──╫──╫──╫──╫──╫─┤M├\n",
       "           ░  ║  ║  ║  ║  ║ └╥┘\n",
       "c: 6/═════════╩══╩══╩══╩══╩══╩═\n",
       "              0  1  2  3  4  5 "
      ]
     },
     "execution_count": 29,
     "metadata": {},
     "output_type": "execute_result"
    }
   ],
   "source": [
    "qc_encode6.draw()"
   ]
  },
  {
   "cell_type": "code",
   "execution_count": 31,
   "metadata": {},
   "outputs": [
    {
     "data": {
      "image/png": "[encoded data removed]",
      "text/plain": [
       "<Figure size 504x360 with 1 Axes>"
      ]
     },
     "execution_count": 31,
     "metadata": {},
     "output_type": "execute_result"
    }
   ],
   "source": [
    "qobj = assemble(qc_encode6)\n",
    "counts = sim.run(qobj).result().get_counts()\n",
    "plot_histogram(counts)"
   ]
  },
  {
   "cell_type": "code",
   "execution_count": 63,
   "metadata": {},
   "outputs": [
    {
     "data": {
      "text/html": [
       "<pre style=\"word-wrap: normal;white-space: pre;background: #fff0;line-height: 1.1;font-family: &quot;Courier New&quot;,Courier,monospace\">     ┌───┐ ░                                ░       \n",
       "q_0: ┤ X ├─░───■──────────────■────■────────░───────\n",
       "     ├───┤ ░   │              │    │        ░       \n",
       "q_1: ┤ X ├─░───┼────■─────────■────┼────■───░───────\n",
       "     ├───┤ ░   │    │         │    │    │   ░       \n",
       "q_2: ┤ X ├─░───┼────┼────■────┼────■────■───░───────\n",
       "     └───┘ ░ ┌─┴─┐┌─┴─┐┌─┴─┐  │    │    │   ░ ┌─┐   \n",
       "q_3: ──────░─┤ X ├┤ X ├┤ X ├──┼────┼────┼───░─┤M├───\n",
       "           ░ └───┘└───┘└───┘┌─┴─┐┌─┴─┐┌─┴─┐ ░ └╥┘┌─┐\n",
       "q_4: ──────░────────────────┤ X ├┤ X ├┤ X ├─░──╫─┤M├\n",
       "           ░                └───┘└───┘└───┘ ░  ║ └╥┘\n",
       "c: 2/══════════════════════════════════════════╩══╩═\n",
       "                                               0  1 </pre>"
      ],
      "text/plain": [
       "     ┌───┐ ░                                ░       \n",
       "q_0: ┤ X ├─░───■──────────────■────■────────░───────\n",
       "     ├───┤ ░   │              │    │        ░       \n",
       "q_1: ┤ X ├─░───┼────■─────────■────┼────■───░───────\n",
       "     ├───┤ ░   │    │         │    │    │   ░       \n",
       "q_2: ┤ X ├─░───┼────┼────■────┼────■────■───░───────\n",
       "     └───┘ ░ ┌─┴─┐┌─┴─┐┌─┴─┐  │    │    │   ░ ┌─┐   \n",
       "q_3: ──────░─┤ X ├┤ X ├┤ X ├──┼────┼────┼───░─┤M├───\n",
       "           ░ └───┘└───┘└───┘┌─┴─┐┌─┴─┐┌─┴─┐ ░ └╥┘┌─┐\n",
       "q_4: ──────░────────────────┤ X ├┤ X ├┤ X ├─░──╫─┤M├\n",
       "           ░                └───┘└───┘└───┘ ░  ║ └╥┘\n",
       "c: 2/══════════════════════════════════════════╩══╩═\n",
       "                                               0  1 "
      ]
     },
     "execution_count": 63,
     "metadata": {},
     "output_type": "execute_result"
    }
   ],
   "source": [
    "qc_cnot = QuantumCircuit(5,2)\n",
    "qc_cnot.x(0)\n",
    "qc_cnot.x(1)\n",
    "qc_cnot.x(2)\n",
    "qc_cnot.barrier()\n",
    "qc_cnot.cx(0,3)\n",
    "qc_cnot.cx(1,3)\n",
    "qc_cnot.cx(2,3)\n",
    "qc_cnot.ccx(0,1,4)\n",
    "qc_cnot.ccx(0,2,4)\n",
    "qc_cnot.ccx(1,2,4)\n",
    "qc_cnot.barrier()\n",
    "qc_cnot.measure(3,0)\n",
    "qc_cnot.measure(4,1)\n",
    "qc_cnot.draw()"
   ]
  },
  {
   "cell_type": "code",
   "execution_count": 64,
   "metadata": {},
   "outputs": [
    {
     "data": {
      "image/png": "[encoded data removed]",
      "text/plain": [
       "<Figure size 504x360 with 1 Axes>"
      ]
     },
     "execution_count": 64,
     "metadata": {},
     "output_type": "execute_result"
    }
   ],
   "source": [
    "sim = Aer.get_backend('qasm_simulator')\n",
    "qobj = assemble(qc_cnot)\n",
    "counts = sim.run(qobj).result().get_counts()\n",
    "plot_histogram(counts)"
   ]
  },
  {
   "cell_type": "code",
   "execution_count": null,
   "metadata": {},
   "outputs": [],
   "source": []
  },
  {
   "cell_type": "code",
   "execution_count": null,
   "metadata": {},
   "outputs": [],
   "source": []
  }
 ],
 "metadata": {
  "kernelspec": {
   "display_name": "Python 3",
   "language": "python",
   "name": "python3"
  },
  "language_info": {
   "codemirror_mode": {
    "name": "ipython",
    "version": 3
   },
   "file_extension": ".py",
   "mimetype": "text/x-python",
   "name": "python",
   "nbconvert_exporter": "python",
   "pygments_lexer": "ipython3",
   "version": "3.8.5"
  }
 },
 "nbformat": 4,
 "nbformat_minor": 4
}
